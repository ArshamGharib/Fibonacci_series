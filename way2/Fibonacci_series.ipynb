{
 "cells": [
  {
   "cell_type": "code",
   "execution_count": 1,
   "metadata": {},
   "outputs": [
    {
     "name": "stdout",
     "output_type": "stream",
     "text": [
      "0 1 1 2 3 5 8 13 21 34 "
     ]
    }
   ],
   "source": [
    "n1 , n2 = 0 , 1\n",
    "\n",
    "for i in range(10):\n",
    "    \n",
    "    if i == 0:\n",
    "        print(n1 , end = ' ')\n",
    "    elif i == 1:\n",
    "        print(n2 , end = ' ')\n",
    "    else:\n",
    "        next_num = n1 + n2\n",
    "        n1 , n2 = n2 , next_num\n",
    "        print(next_num , end = ' ')"
   ]
  },
  {
   "cell_type": "code",
   "execution_count": null,
   "metadata": {},
   "outputs": [],
   "source": []
  }
 ],
 "metadata": {
  "kernelspec": {
   "display_name": "Python 3",
   "language": "python",
   "name": "python3"
  },
  "language_info": {
   "codemirror_mode": {
    "name": "ipython",
    "version": 3
   },
   "file_extension": ".py",
   "mimetype": "text/x-python",
   "name": "python",
   "nbconvert_exporter": "python",
   "pygments_lexer": "ipython3",
   "version": "3.11.4"
  }
 },
 "nbformat": 4,
 "nbformat_minor": 2
}
